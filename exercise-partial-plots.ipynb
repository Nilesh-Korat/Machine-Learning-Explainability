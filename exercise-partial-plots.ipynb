{
 "cells": [
  {
   "cell_type": "code",
   "execution_count": 2,
   "metadata": {
    "execution": {
     "iopub.execute_input": "2022-03-28T11:51:50.050531Z",
     "iopub.status.busy": "2022-03-28T11:51:50.050028Z",
     "iopub.status.idle": "2022-03-28T11:51:55.615406Z",
     "shell.execute_reply": "2022-03-28T11:51:55.614784Z",
     "shell.execute_reply.started": "2022-03-28T11:51:50.050441Z"
    },
    "scrolled": false
   },
   "outputs": [
    {
     "name": "stdout",
     "output_type": "stream",
     "text": [
      "Data sample:\n"
     ]
    },
    {
     "data": {
      "text/html": [
       "<div>\n",
       "<style scoped>\n",
       "    .dataframe tbody tr th:only-of-type {\n",
       "        vertical-align: middle;\n",
       "    }\n",
       "\n",
       "    .dataframe tbody tr th {\n",
       "        vertical-align: top;\n",
       "    }\n",
       "\n",
       "    .dataframe thead th {\n",
       "        text-align: right;\n",
       "    }\n",
       "</style>\n",
       "<table border=\"1\" class=\"dataframe\">\n",
       "  <thead>\n",
       "    <tr style=\"text-align: right;\">\n",
       "      <th></th>\n",
       "      <th>key</th>\n",
       "      <th>fare_amount</th>\n",
       "      <th>pickup_datetime</th>\n",
       "      <th>pickup_longitude</th>\n",
       "      <th>pickup_latitude</th>\n",
       "      <th>dropoff_longitude</th>\n",
       "      <th>dropoff_latitude</th>\n",
       "      <th>passenger_count</th>\n",
       "    </tr>\n",
       "  </thead>\n",
       "  <tbody>\n",
       "    <tr>\n",
       "      <th>2</th>\n",
       "      <td>2011-08-18 00:35:00.00000049</td>\n",
       "      <td>5.7</td>\n",
       "      <td>2011-08-18 00:35:00 UTC</td>\n",
       "      <td>-73.982738</td>\n",
       "      <td>40.761270</td>\n",
       "      <td>-73.991242</td>\n",
       "      <td>40.750562</td>\n",
       "      <td>2</td>\n",
       "    </tr>\n",
       "    <tr>\n",
       "      <th>3</th>\n",
       "      <td>2012-04-21 04:30:42.0000001</td>\n",
       "      <td>7.7</td>\n",
       "      <td>2012-04-21 04:30:42 UTC</td>\n",
       "      <td>-73.987130</td>\n",
       "      <td>40.733143</td>\n",
       "      <td>-73.991567</td>\n",
       "      <td>40.758092</td>\n",
       "      <td>1</td>\n",
       "    </tr>\n",
       "    <tr>\n",
       "      <th>4</th>\n",
       "      <td>2010-03-09 07:51:00.000000135</td>\n",
       "      <td>5.3</td>\n",
       "      <td>2010-03-09 07:51:00 UTC</td>\n",
       "      <td>-73.968095</td>\n",
       "      <td>40.768008</td>\n",
       "      <td>-73.956655</td>\n",
       "      <td>40.783762</td>\n",
       "      <td>1</td>\n",
       "    </tr>\n",
       "    <tr>\n",
       "      <th>6</th>\n",
       "      <td>2012-11-20 20:35:00.0000001</td>\n",
       "      <td>7.5</td>\n",
       "      <td>2012-11-20 20:35:00 UTC</td>\n",
       "      <td>-73.980002</td>\n",
       "      <td>40.751662</td>\n",
       "      <td>-73.973802</td>\n",
       "      <td>40.764842</td>\n",
       "      <td>1</td>\n",
       "    </tr>\n",
       "    <tr>\n",
       "      <th>7</th>\n",
       "      <td>2012-01-04 17:22:00.00000081</td>\n",
       "      <td>16.5</td>\n",
       "      <td>2012-01-04 17:22:00 UTC</td>\n",
       "      <td>-73.951300</td>\n",
       "      <td>40.774138</td>\n",
       "      <td>-73.990095</td>\n",
       "      <td>40.751048</td>\n",
       "      <td>1</td>\n",
       "    </tr>\n",
       "  </tbody>\n",
       "</table>\n",
       "</div>"
      ],
      "text/plain": [
       "                             key  fare_amount          pickup_datetime  \\\n",
       "2   2011-08-18 00:35:00.00000049          5.7  2011-08-18 00:35:00 UTC   \n",
       "3    2012-04-21 04:30:42.0000001          7.7  2012-04-21 04:30:42 UTC   \n",
       "4  2010-03-09 07:51:00.000000135          5.3  2010-03-09 07:51:00 UTC   \n",
       "6    2012-11-20 20:35:00.0000001          7.5  2012-11-20 20:35:00 UTC   \n",
       "7   2012-01-04 17:22:00.00000081         16.5  2012-01-04 17:22:00 UTC   \n",
       "\n",
       "   pickup_longitude  pickup_latitude  dropoff_longitude  dropoff_latitude  \\\n",
       "2        -73.982738        40.761270         -73.991242         40.750562   \n",
       "3        -73.987130        40.733143         -73.991567         40.758092   \n",
       "4        -73.968095        40.768008         -73.956655         40.783762   \n",
       "6        -73.980002        40.751662         -73.973802         40.764842   \n",
       "7        -73.951300        40.774138         -73.990095         40.751048   \n",
       "\n",
       "   passenger_count  \n",
       "2                2  \n",
       "3                1  \n",
       "4                1  \n",
       "6                1  \n",
       "7                1  "
      ]
     },
     "execution_count": 2,
     "metadata": {},
     "output_type": "execute_result"
    }
   ],
   "source": [
    "import pandas as pd\n",
    "from sklearn.ensemble import RandomForestRegressor\n",
    "from sklearn.linear_model import LinearRegression\n",
    "from sklearn.model_selection import train_test_split\n",
    "\n",
    "\n",
    "# Data manipulation code below here\n",
    "data = pd.read_csv(\"new york city taxi train.csv\", nrows=50000)\n",
    "\n",
    "# Remove data with extreme outlier coordinates or negative fares\n",
    "data = data.query('pickup_latitude > 40.7 and pickup_latitude < 40.8 and ' +\n",
    "                  'dropoff_latitude > 40.7 and dropoff_latitude < 40.8 and ' +\n",
    "                  'pickup_longitude > -74 and pickup_longitude < -73.9 and ' +\n",
    "                  'dropoff_longitude > -74 and dropoff_longitude < -73.9 and ' +\n",
    "                  'fare_amount > 0'\n",
    "                  )\n",
    "\n",
    "y = data.fare_amount\n",
    "\n",
    "base_features = ['pickup_longitude',\n",
    "                 'pickup_latitude',\n",
    "                 'dropoff_longitude',\n",
    "                 'dropoff_latitude']\n",
    "\n",
    "X = data[base_features]\n",
    "\n",
    "\n",
    "train_X, val_X, train_y, val_y = train_test_split(X, y, random_state=1)\n",
    "first_model = RandomForestRegressor(n_estimators=30, random_state=1).fit(train_X, train_y)\n",
    "print(\"Data sample:\")\n",
    "data.head()"
   ]
  },
  {
   "cell_type": "code",
   "execution_count": 3,
   "metadata": {
    "execution": {
     "iopub.execute_input": "2022-03-28T11:52:06.644596Z",
     "iopub.status.busy": "2022-03-28T11:52:06.644312Z",
     "iopub.status.idle": "2022-03-28T11:52:06.689671Z",
     "shell.execute_reply": "2022-03-28T11:52:06.688571Z",
     "shell.execute_reply.started": "2022-03-28T11:52:06.644567Z"
    }
   },
   "outputs": [
    {
     "data": {
      "text/html": [
       "<div>\n",
       "<style scoped>\n",
       "    .dataframe tbody tr th:only-of-type {\n",
       "        vertical-align: middle;\n",
       "    }\n",
       "\n",
       "    .dataframe tbody tr th {\n",
       "        vertical-align: top;\n",
       "    }\n",
       "\n",
       "    .dataframe thead th {\n",
       "        text-align: right;\n",
       "    }\n",
       "</style>\n",
       "<table border=\"1\" class=\"dataframe\">\n",
       "  <thead>\n",
       "    <tr style=\"text-align: right;\">\n",
       "      <th></th>\n",
       "      <th>fare_amount</th>\n",
       "      <th>pickup_longitude</th>\n",
       "      <th>pickup_latitude</th>\n",
       "      <th>dropoff_longitude</th>\n",
       "      <th>dropoff_latitude</th>\n",
       "      <th>passenger_count</th>\n",
       "    </tr>\n",
       "  </thead>\n",
       "  <tbody>\n",
       "    <tr>\n",
       "      <th>count</th>\n",
       "      <td>31289.000000</td>\n",
       "      <td>31289.000000</td>\n",
       "      <td>31289.000000</td>\n",
       "      <td>31289.000000</td>\n",
       "      <td>31289.000000</td>\n",
       "      <td>31289.000000</td>\n",
       "    </tr>\n",
       "    <tr>\n",
       "      <th>mean</th>\n",
       "      <td>8.483093</td>\n",
       "      <td>-73.976860</td>\n",
       "      <td>40.756917</td>\n",
       "      <td>-73.975342</td>\n",
       "      <td>40.757473</td>\n",
       "      <td>1.656141</td>\n",
       "    </tr>\n",
       "    <tr>\n",
       "      <th>std</th>\n",
       "      <td>4.628164</td>\n",
       "      <td>0.014635</td>\n",
       "      <td>0.018170</td>\n",
       "      <td>0.015917</td>\n",
       "      <td>0.018661</td>\n",
       "      <td>1.284899</td>\n",
       "    </tr>\n",
       "    <tr>\n",
       "      <th>min</th>\n",
       "      <td>0.010000</td>\n",
       "      <td>-73.999999</td>\n",
       "      <td>40.700013</td>\n",
       "      <td>-73.999999</td>\n",
       "      <td>40.700020</td>\n",
       "      <td>0.000000</td>\n",
       "    </tr>\n",
       "    <tr>\n",
       "      <th>25%</th>\n",
       "      <td>5.500000</td>\n",
       "      <td>-73.988039</td>\n",
       "      <td>40.744947</td>\n",
       "      <td>-73.987125</td>\n",
       "      <td>40.745922</td>\n",
       "      <td>1.000000</td>\n",
       "    </tr>\n",
       "    <tr>\n",
       "      <th>50%</th>\n",
       "      <td>7.500000</td>\n",
       "      <td>-73.979691</td>\n",
       "      <td>40.758027</td>\n",
       "      <td>-73.978547</td>\n",
       "      <td>40.758559</td>\n",
       "      <td>1.000000</td>\n",
       "    </tr>\n",
       "    <tr>\n",
       "      <th>75%</th>\n",
       "      <td>10.100000</td>\n",
       "      <td>-73.967823</td>\n",
       "      <td>40.769580</td>\n",
       "      <td>-73.966435</td>\n",
       "      <td>40.770427</td>\n",
       "      <td>2.000000</td>\n",
       "    </tr>\n",
       "    <tr>\n",
       "      <th>max</th>\n",
       "      <td>165.000000</td>\n",
       "      <td>-73.900062</td>\n",
       "      <td>40.799952</td>\n",
       "      <td>-73.900062</td>\n",
       "      <td>40.799999</td>\n",
       "      <td>6.000000</td>\n",
       "    </tr>\n",
       "  </tbody>\n",
       "</table>\n",
       "</div>"
      ],
      "text/plain": [
       "        fare_amount  pickup_longitude  pickup_latitude  dropoff_longitude  \\\n",
       "count  31289.000000      31289.000000     31289.000000       31289.000000   \n",
       "mean       8.483093        -73.976860        40.756917         -73.975342   \n",
       "std        4.628164          0.014635         0.018170           0.015917   \n",
       "min        0.010000        -73.999999        40.700013         -73.999999   \n",
       "25%        5.500000        -73.988039        40.744947         -73.987125   \n",
       "50%        7.500000        -73.979691        40.758027         -73.978547   \n",
       "75%       10.100000        -73.967823        40.769580         -73.966435   \n",
       "max      165.000000        -73.900062        40.799952         -73.900062   \n",
       "\n",
       "       dropoff_latitude  passenger_count  \n",
       "count      31289.000000     31289.000000  \n",
       "mean          40.757473         1.656141  \n",
       "std            0.018661         1.284899  \n",
       "min           40.700020         0.000000  \n",
       "25%           40.745922         1.000000  \n",
       "50%           40.758559         1.000000  \n",
       "75%           40.770427         2.000000  \n",
       "max           40.799999         6.000000  "
      ]
     },
     "execution_count": 3,
     "metadata": {},
     "output_type": "execute_result"
    }
   ],
   "source": [
    "data.describe()"
   ]
  },
  {
   "cell_type": "markdown",
   "metadata": {},
   "source": [
    "## Question 1\n",
    "\n",
    "Here is the code to plot the partial dependence plot for pickup_longitude.  Run the following cell."
   ]
  },
  {
   "cell_type": "code",
   "execution_count": 5,
   "metadata": {
    "execution": {
     "iopub.execute_input": "2022-03-28T11:52:17.829065Z",
     "iopub.status.busy": "2022-03-28T11:52:17.828293Z",
     "iopub.status.idle": "2022-03-28T11:52:18.879105Z",
     "shell.execute_reply": "2022-03-28T11:52:18.878197Z",
     "shell.execute_reply.started": "2022-03-28T11:52:17.829009Z"
    }
   },
   "outputs": [],
   "source": [
    "from matplotlib import pyplot as plt\n",
    "from pdpbox import pdp, get_dataset, info_plots\n",
    "\n",
    "feat_name = 'pickup_longitude'\n",
    "pdp_dist = pdp.pdp_isolate(model=first_model, dataset=val_X, model_features=base_features, feature=feat_name)\n",
    "\n",
    "pdp.pdp_plot(pdp_dist, feat_name)\n",
    "plt.show()"
   ]
  },
  {
   "cell_type": "markdown",
   "metadata": {},
   "source": [
    "Why does the partial dependence plot have this U-shape?\n",
    "\n",
    "Does your explanation suggest what shape to expect in the partial dependence plots for the other features?\n",
    "\n",
    "Create all other partial plots in a for-loop below (copying the appropriate lines from the code above)."
   ]
  },
  {
   "cell_type": "code",
   "execution_count": 4,
   "metadata": {
    "execution": {
     "iopub.execute_input": "2022-03-28T11:56:24.240339Z",
     "iopub.status.busy": "2022-03-28T11:56:24.239988Z",
     "iopub.status.idle": "2022-03-28T11:56:27.504240Z",
     "shell.execute_reply": "2022-03-28T11:56:27.503287Z",
     "shell.execute_reply.started": "2022-03-28T11:56:24.240306Z"
    }
   },
   "outputs": [],
   "source": [
    "for feat_name in base_features:\n",
    "    pdp_dist = pdp.pdp_isolate(model=first_model, dataset=val_X, model_features=base_features, feature=feat_name)\n",
    "    pdp.pdp_plot(pdp_dist, feat_name)\n",
    "    plt.show()"
   ]
  },
  {
   "cell_type": "markdown",
   "metadata": {},
   "source": [
    "Do the shapes match your expectations for what shapes they would have? Can you explain the shape now that you've seen them? \n",
    "\n",
    "Uncomment the following line to check your intuition."
   ]
  },
  {
   "cell_type": "markdown",
   "metadata": {},
   "source": [
    "## Question 2\n",
    "\n",
    "Now you will run a 2D partial dependence plot.  As a reminder, here is the code from the tutorial.  \n",
    "\n",
    "```\n",
    "inter1  =  pdp.pdp_interact(model=my_model, dataset=val_X, model_features=feature_names, features=['Goal Scored', 'Distance Covered (Kms)'])\n",
    "\n",
    "pdp.pdp_interact_plot(pdp_interact_out=inter1, feature_names=['Goal Scored', 'Distance Covered (Kms)'], plot_type='contour')\n",
    "plt.show()\n",
    "```\n",
    "\n",
    "Create a 2D plot for the features `pickup_longitude` and `dropoff_longitude`.  Plot it appropriately?\n",
    "\n",
    "What do you expect it to look like?"
   ]
  },
  {
   "cell_type": "code",
   "execution_count": 12,
   "metadata": {
    "execution": {
     "iopub.execute_input": "2022-03-28T12:13:16.022881Z",
     "iopub.status.busy": "2022-03-28T12:13:16.022609Z",
     "iopub.status.idle": "2022-03-28T12:13:21.614756Z",
     "shell.execute_reply": "2022-03-28T12:13:21.613918Z",
     "shell.execute_reply.started": "2022-03-28T12:13:16.022835Z"
    }
   },
   "outputs": [],
   "source": [
    "# Add your code here\n",
    "inter2 = pdp.pdp_interact(model=first_model, dataset=val_X, model_features=base_features, features=['pickup_longitude','dropoff_longitude'])\n",
    "pdp.pdp_interact_plot(pdp_interact_out=inter2, feature_names=['pickup_longitude','dropoff_longitude'], plot_type='contour')\n",
    "plt.show()"
   ]
  },
  {
   "cell_type": "markdown",
   "metadata": {},
   "source": [
    "Uncomment the line below to see the solution and explanation for how one might reason about the plot shape."
   ]
  },
  {
   "cell_type": "markdown",
   "metadata": {},
   "source": [
    "## Question 3\n",
    "Consider a ride starting at longitude -73.92 and ending at longitude -74. Using the graph from the last question, estimate how much money the rider would have saved if they'd started the ride at longitude -73.98 instead?"
   ]
  },
  {
   "cell_type": "code",
   "execution_count": 18,
   "metadata": {
    "execution": {
     "iopub.execute_input": "2022-03-28T12:20:52.359759Z",
     "iopub.status.busy": "2022-03-28T12:20:52.359162Z",
     "iopub.status.idle": "2022-03-28T12:20:52.368233Z",
     "shell.execute_reply": "2022-03-28T12:20:52.367373Z",
     "shell.execute_reply.started": "2022-03-28T12:20:52.359710Z"
    }
   },
   "outputs": [],
   "source": [
    "savings_from_shorter_trip = 15\n"
   ]
  },
  {
   "cell_type": "markdown",
   "metadata": {},
   "source": [
    "For a solution or hint, uncomment the appropriate line below."
   ]
  },
  {
   "cell_type": "markdown",
   "metadata": {},
   "source": [
    "## Question 4\n",
    "In the PDP's you've seen so far, location features have primarily served as a proxy to capture distance traveled. In the permutation importance lessons, you added the features `abs_lon_change` and `abs_lat_change` as a more direct measure of distance.\n",
    "\n",
    "Create these features again here. You only need to fill in the top two lines.  Then run the following cell.  \n",
    "\n",
    "**After you run it, identify the most important difference between this partial dependence plot and the one you got without absolute value features. The code to generate the PDP without absolute value features is at the top of this code cell.**\n",
    "\n",
    "---"
   ]
  },
  {
   "cell_type": "code",
   "execution_count": 21,
   "metadata": {
    "execution": {
     "iopub.execute_input": "2022-03-28T12:25:44.035157Z",
     "iopub.status.busy": "2022-03-28T12:25:44.034831Z",
     "iopub.status.idle": "2022-03-28T12:25:50.464838Z",
     "shell.execute_reply": "2022-03-28T12:25:50.464055Z",
     "shell.execute_reply.started": "2022-03-28T12:25:44.035123Z"
    }
   },
   "outputs": [],
   "source": [
    "# This is the PDP for pickup_longitude without the absolute difference features. Included here to help compare it to the new PDP you create\n",
    "feat_name = 'pickup_longitude'\n",
    "pdp_dist_original = pdp.pdp_isolate(model=first_model, dataset=val_X, model_features=base_features, feature=feat_name)\n",
    "\n",
    "pdp.pdp_plot(pdp_dist_original, feat_name)\n",
    "plt.show()\n",
    "\n",
    "\n",
    "\n",
    "# create new features\n",
    "data['abs_lon_change'] = abs(data.dropoff_longitude - data.pickup_longitude)\n",
    "data['abs_lat_change'] = abs(data.dropoff_latitude - data.pickup_latitude)\n",
    "\n",
    "features_2  = ['pickup_longitude',\n",
    "               'pickup_latitude',\n",
    "               'dropoff_longitude',\n",
    "               'dropoff_latitude',\n",
    "               'abs_lat_change',\n",
    "               'abs_lon_change']\n",
    "\n",
    "X = data[features_2]\n",
    "new_train_X, new_val_X, new_train_y, new_val_y = train_test_split(X, y, random_state=1)\n",
    "second_model = RandomForestRegressor(n_estimators=30, random_state=1).fit(new_train_X, new_train_y)\n",
    "\n",
    "feat_name = 'pickup_longitude'\n",
    "pdp_dist = pdp.pdp_isolate(model=second_model, dataset=new_val_X, model_features=features_2, feature=feat_name)\n",
    "\n",
    "pdp.pdp_plot(pdp_dist, feat_name)\n",
    "plt.show()"
   ]
  },
  {
   "cell_type": "markdown",
   "metadata": {},
   "source": [
    "Uncomment the lines below to see a hint or the solution (including an explanation of the important differences between the plots)."
   ]
  },
  {
   "cell_type": "markdown",
   "metadata": {},
   "source": [
    "## Question 5\n",
    "Consider a scenario where you have only 2 predictive features, which we will call `feat_A` and `feat_B`. Both features have minimum values of -1 and maximum values of 1.  The partial dependence plot for `feat_A` increases steeply over its whole range, whereas the partial dependence plot for feature B increases at a slower rate (less steeply) over its whole range.\n",
    "\n",
    "Does this guarantee that `feat_A` will have a higher permutation importance than `feat_B`.  Why or why not?\n",
    "\n",
    "After you've thought about it, uncomment the line below for the solution."
   ]
  },
  {
   "cell_type": "markdown",
   "metadata": {},
   "source": [
    "## Question 6\n",
    "The code cell below does the following:\n",
    "\n",
    "1. Creates two features, `X1` and `X2`, having random values in the range [-2, 2].\n",
    "2. Creates a target variable `y`, which is always 1.\n",
    "3. Trains a `RandomForestRegressor` model to predict `y` given `X1` and `X2`.\n",
    "4. Creates a PDP plot for `X1` and a scatter plot of `X1` vs. `y`.\n",
    "\n",
    "Do you have a prediction about what the PDP plot will look like? Run the cell to find out.\n",
    "\n",
    "Modify the initialization of `y` so that our PDP plot has a positive slope in the range [-1,1], and a negative slope everywhere else. (Note: *you should only modify the creation of `y`, leaving `X1`, `X2`, and `my_model` unchanged.*)"
   ]
  },
  {
   "cell_type": "code",
   "execution_count": 26,
   "metadata": {
    "execution": {
     "iopub.execute_input": "2022-03-28T12:27:52.285080Z",
     "iopub.status.busy": "2022-03-28T12:27:52.284446Z",
     "iopub.status.idle": "2022-03-28T12:27:54.514246Z",
     "shell.execute_reply": "2022-03-28T12:27:54.513568Z",
     "shell.execute_reply.started": "2022-03-28T12:27:52.285044Z"
    }
   },
   "outputs": [],
   "source": [
    "import numpy as np\n",
    "from numpy.random import rand\n",
    "\n",
    "n_samples = 20000\n",
    "\n",
    "# Create array holding predictive feature\n",
    "X1 = 4 * rand(n_samples) - 2\n",
    "X2 = 4 * rand(n_samples) - 2\n",
    "# Create y. you should have X1 and X2 in the expression for y\n",
    "y = y = -2 * X1 * (X1<-1) + X1 - 2 * X1 * (X1>1) - X2\n",
    "\n",
    "# create dataframe because pdp_isolate expects a dataFrame as an argument\n",
    "my_df = pd.DataFrame({'X1': X1, 'X2': X2, 'y': y})\n",
    "predictors_df = my_df.drop(['y'], axis=1)\n",
    "\n",
    "my_model = RandomForestRegressor(n_estimators=30, random_state=1).fit(predictors_df, my_df.y)\n",
    "\n",
    "pdp_dist = pdp.pdp_isolate(model=my_model, dataset=my_df, model_features=['X1', 'X2'], feature='X1')\n",
    "\n",
    "# visualize your results\n",
    "pdp.pdp_plot(pdp_dist, 'X1')\n",
    "plt.show()"
   ]
  },
  {
   "cell_type": "markdown",
   "metadata": {},
   "source": [
    "Uncomment the lines below for a hint or solution"
   ]
  },
  {
   "cell_type": "markdown",
   "metadata": {},
   "source": [
    "## Question 7\n",
    "Create a dataset with 2 features and a target, such that the pdp of the first feature is flat, but its permutation importance is high.  We will use a RandomForest for the model.\n",
    "\n",
    "*Note: You only need to supply the lines that create the variables X1, X2 and y. The code to build the model and calculate insights is provided*."
   ]
  },
  {
   "cell_type": "code",
   "execution_count": 29,
   "metadata": {
    "execution": {
     "iopub.execute_input": "2022-03-28T12:28:50.646901Z",
     "iopub.status.busy": "2022-03-28T12:28:50.646485Z",
     "iopub.status.idle": "2022-03-28T12:29:02.626620Z",
     "shell.execute_reply": "2022-03-28T12:29:02.625816Z",
     "shell.execute_reply.started": "2022-03-28T12:28:50.646856Z"
    }
   },
   "outputs": [],
   "source": [
    "import eli5\n",
    "from eli5.sklearn import PermutationImportance\n",
    "\n",
    "n_samples = 20000\n",
    "\n",
    "# Create array holding predictive feature\n",
    "X1 = 4 * rand(n_samples) - 2\n",
    "X2 = 4 * rand(n_samples) - 2\n",
    "# Create y. you should have X1 and X2 in the expression for y\n",
    "y = X1 * X2\n",
    "\n",
    "\n",
    "# create dataframe because pdp_isolate expects a dataFrame as an argument\n",
    "my_df = pd.DataFrame({'X1': X1, 'X2': X2, 'y': y})\n",
    "predictors_df = my_df.drop(['y'], axis=1)\n",
    "\n",
    "my_model = RandomForestRegressor(n_estimators=30, random_state=1).fit(predictors_df, my_df.y)\n",
    "\n",
    "\n",
    "pdp_dist = pdp.pdp_isolate(model=my_model, dataset=my_df, model_features=['X1', 'X2'], feature='X1')\n",
    "pdp.pdp_plot(pdp_dist, 'X1')\n",
    "plt.show()\n",
    "\n",
    "perm = PermutationImportance(my_model).fit(predictors_df, my_df.y)\n",
    "\n",
    "# Check your answer\n",
    "q_7.check()\n",
    "\n",
    "# show the weights for the permutation importance you just calculated\n",
    "eli5.show_weights(perm, feature_names = ['X1', 'X2'])"
   ]
  }
 ],
 "metadata": {
  "kernelspec": {
   "display_name": "Python 3",
   "language": "python",
   "name": "python3"
  },
  "language_info": {
   "codemirror_mode": {
    "name": "ipython",
    "version": 3
   },
   "file_extension": ".py",
   "mimetype": "text/x-python",
   "name": "python",
   "nbconvert_exporter": "python",
   "pygments_lexer": "ipython3",
   "version": "3.8.8"
  }
 },
 "nbformat": 4,
 "nbformat_minor": 4
}
